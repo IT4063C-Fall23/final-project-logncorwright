{
 "cells": [
  {
   "attachments": {},
   "cell_type": "markdown",
   "metadata": {},
   "source": [
    "# {Analyzing the Impact of COVID-19 Vaccination Campaigns on Public Health Outcomes}📝\n",
    "\n",
    "![Banner](./assets/banner.jpeg)"
   ]
  },
  {
   "attachments": {},
   "cell_type": "markdown",
   "metadata": {},
   "source": [
    "## Topic\n",
    "*What problem are you (or your stakeholder) trying to address?*\n",
    "📝 <!-- Answer Below -->\n",
    "\n",
    "How informed public health campaigns can affect the overall outcome of a pandemic or similar outbreak when it comes to receiving vaccination and proper care for said ailment. In my instances people can be ill informed about vaccinations or other forms of treatment for illnesses and have an adverse outlook of them when in reality they are often times just ill-equiped to make a proper judgement due to not having equal access to the information at hand to make their own informed decision.\n",
    "\n",
    "Some questions that I will use to help fuel this inquiry are:\n",
    "\n",
    "How have COVID-19 vaccination rates and the availability of vaccine doses evolved over time in various regions?\n",
    "\n",
    "What is the relationship between vaccination rates and the incidence of COVID-19 cases in different demographic groups?\n",
    "\n",
    "Are there any patterns or disparities in vaccination rates based on socioeconomic factors or geographic locations?\n",
    "\n",
    "Though not every question above is not the \"Project Question\" itself, they are things to keep in mind that might add to the overall assessment of the issue at hand and provide insights as to why certain trends might be found."
   ]
  },
  {
   "attachments": {},
   "cell_type": "markdown",
   "metadata": {},
   "source": [
    "## Project Question\n",
    "*What specific question are you seeking to answer with this project?*\n",
    "*This is not the same as the questions you ask to limit the scope of the project.*\n",
    "📝 <!-- Answer Below -->\n",
    "\n",
    "\"How did various public health campaigns for the COVID-19 vaccine affect the outcome of public health in various socioeconomic areas?\""
   ]
  },
  {
   "attachments": {},
   "cell_type": "markdown",
   "metadata": {},
   "source": [
    "## What would an answer look like?\n",
    "*What is your hypothesized answer to your question?*\n",
    "📝 <!-- Answer Below -->\n",
    "\n",
    "\"I believe that there will be a reduction in spread and lower number of overall cases of COVID-19 in regions that had stronger public health campaigns that pushed for the vaccine as opposed to those who did not, notably this would be more likely to occur in areas that are of higher socioeconomic standing.\" "
   ]
  },
  {
   "attachments": {},
   "cell_type": "markdown",
   "metadata": {},
   "source": [
    "## Data Sources\n",
    "*What 3 data sources have you identified for this project?*\n",
    "*How are you going to relate these datasets?*\n",
    "📝 <!-- Answer Below -->\n",
    "\n",
    "The first is api from [covidactnow](https://covidactnow.org/?s=48083556). This has a lot of in depth and useful data available in both json & csv format.\n",
    "\n",
    "The second source is from the [US Census Database](https://data.census.gov). This information is very useful in that it will provide the different demographics that will be used in the analysis.\n",
    "\n",
    "The final source is from a csv file **covid_states_history.csv**. This file has information dating up until 2021 about various cases, deaths, etc. that will be further used to analyze the problem at hand.\n",
    "\n",
    "The way I plan on relating the datasets is that I plan on merging the COVID-19 Vaccination data and Case data sets (API & CSV) in order to have common variables such as data, region, etc. to be used to analyze the relationship between COVID-19 cases and vaccination rates. Furthermore, I plan on relation the Socioeconomic Data (Database) to both the vaccine and case data using different regions as a common key to explore any patterns based on socioeconomic factors. \n",
    "\n",
    "\n",
    "\n"
   ]
  },
  {
   "attachments": {},
   "cell_type": "markdown",
   "metadata": {},
   "source": [
    "## Approach and Analysis\n",
    "*What is your approach to answering your project question?*\n",
    "*How will you use the identified data to answer your project question?*\n",
    "📝 <!-- Start Discussing the project here; you can add as many code cells as you need -->\n",
    "\n",
    "My approach to this project is that I will first get all of the data from the various sets imported, merged, and cleaned such that I can begin analyzing it. There are a few different ways that I plan to approach these datasets to analyze the problems at hand. I can potentially perform a time-series analysis using line charts that show vaccination rates & does availability by region over a set amount of time. I can use regression analysis to identify any statistically significant relationships between vaccination rates and COVID-19 case occurrence in terms of different demographic groups and visualize that with scatter plots. Finally, I can use heatmaps to visualize the different vaccine rates based on region and socioeconomic factors.  "
   ]
  },
  {
   "cell_type": "code",
   "execution_count": 23,
   "metadata": {},
   "outputs": [
    {
     "data": {
      "text/plain": [
       "True"
      ]
     },
     "execution_count": 23,
     "metadata": {},
     "output_type": "execute_result"
    }
   ],
   "source": [
    "# Start your code here\n",
    "from dotenv import load_dotenv\n",
    "\n",
    "import os\n",
    "import csv\n",
    "import json\n",
    "\n",
    "import pandas as pd\n",
    "import numpy as np\n",
    "\n",
    "from urllib.request import urlretrieve\n",
    "from zipfile import ZipFile\n",
    "from sqlalchemy import create_engine, text\n",
    "from pymongo import MongoClient\n",
    "\n",
    "import requests\n",
    "from bs4 import BeautifulSoup\n",
    "\n",
    "load_dotenv(override=True) \n"
   ]
  },
  {
   "cell_type": "code",
   "execution_count": null,
   "metadata": {},
   "outputs": [],
   "source": [
    "pd.set_option('display.max_rows', 500)\n",
    "\n",
    "\n",
    "covid_history_df = pd.read_csv('covid_states_history.csv')\n",
    "\n",
    "\n",
    "print(covid_history_df.head())"
   ]
  },
  {
   "cell_type": "code",
   "execution_count": null,
   "metadata": {},
   "outputs": [],
   "source": [
    "host = 'https://covidactnow.org/'\n",
    "data = 'data-api'\n",
    "url = \"/\".join([host, data])\n",
    "\n",
    "predicates = {}\n",
    "predicates[\"get\"]= \",\".join([\"actuals.deaths\", \"metrics.vaccinationsFall2022BivalentBoosterRatio\"])\n",
    "\n",
    "response = requests.get(url, params=predicates)\n",
    "\n",
    "covid_data = pd.DataFrame.from_records(response.json()[1:],\n",
    "columns = response.json()[0])\n",
    "\n",
    "covid_data.head(5)"
   ]
  },
  {
   "cell_type": "code",
   "execution_count": 35,
   "metadata": {},
   "outputs": [
    {
     "name": "stdout",
     "output_type": "stream",
     "text": [
      "  fips country state county   hsa hsaName  level   lat          locationId  \\\n",
      "0   02      US    AK   None  None    None  state  None  iso1:us#iso2:us-ak   \n",
      "1   01      US    AL   None  None    None  state  None  iso1:us#iso2:us-al   \n",
      "2   05      US    AR   None  None    None  state  None  iso1:us#iso2:us-ar   \n",
      "3   04      US    AZ   None  None    None  state  None  iso1:us#iso2:us-az   \n",
      "4   06      US    CA   None  None    None  state  None  iso1:us#iso2:us-ca   \n",
      "\n",
      "   long  population  hsaPopulation  \\\n",
      "0  None      731545            NaN   \n",
      "1  None     4903185            NaN   \n",
      "2  None     3017804            NaN   \n",
      "3  None     7278717            NaN   \n",
      "4  None    39512223            NaN   \n",
      "\n",
      "                                             metrics  \\\n",
      "0  {'testPositivityRatio': 0.097, 'testPositivity...   \n",
      "1  {'testPositivityRatio': None, 'testPositivityR...   \n",
      "2  {'testPositivityRatio': 0.106, 'testPositivity...   \n",
      "3  {'testPositivityRatio': 0.302, 'testPositivity...   \n",
      "4  {'testPositivityRatio': 0.066, 'testPositivity...   \n",
      "\n",
      "                                          riskLevels  cdcTransmissionLevel  \\\n",
      "0  {'overall': 4, 'testPositivityRatio': 1, 'case...                     2   \n",
      "1  {'overall': 4, 'testPositivityRatio': 4, 'case...                     4   \n",
      "2  {'overall': 4, 'testPositivityRatio': 2, 'case...                     3   \n",
      "3  {'overall': 4, 'testPositivityRatio': 3, 'case...                     3   \n",
      "4  {'overall': 4, 'testPositivityRatio': 1, 'case...                     1   \n",
      "\n",
      "                                     communityLevels  \\\n",
      "0  {'cdcCommunityLevel': None, 'canCommunityLevel...   \n",
      "1  {'cdcCommunityLevel': None, 'canCommunityLevel...   \n",
      "2  {'cdcCommunityLevel': None, 'canCommunityLevel...   \n",
      "3  {'cdcCommunityLevel': None, 'canCommunityLevel...   \n",
      "4  {'cdcCommunityLevel': None, 'canCommunityLevel...   \n",
      "\n",
      "                                             actuals  \\\n",
      "0  {'cases': 297588, 'deaths': 1468, 'positiveTes...   \n",
      "1  {'cases': 1659936, 'deaths': 21138, 'positiveT...   \n",
      "2  {'cases': 995043, 'deaths': 13115, 'positiveTe...   \n",
      "3  {'cases': 2474154, 'deaths': 33451, 'positiveT...   \n",
      "4  {'cases': 12251820, 'deaths': 101886, 'positiv...   \n",
      "\n",
      "                                         annotations lastUpdatedDate  \\\n",
      "0  {'cases': {'sources': [{'type': 'other', 'url'...      2023-10-24   \n",
      "1  {'cases': {'sources': [{'type': 'other', 'url'...      2023-10-24   \n",
      "2  {'cases': {'sources': [{'type': 'other', 'url'...      2023-10-24   \n",
      "3  {'cases': {'sources': [{'type': 'other', 'url'...      2023-10-24   \n",
      "4  {'cases': {'sources': [{'type': 'other', 'url'...      2023-10-24   \n",
      "\n",
      "                                        url  \n",
      "0      https://covidactnow.org/us/alaska-ak  \n",
      "1     https://covidactnow.org/us/alabama-al  \n",
      "2    https://covidactnow.org/us/arkansas-ar  \n",
      "3     https://covidactnow.org/us/arizona-az  \n",
      "4  https://covidactnow.org/us/california-ca  \n"
     ]
    }
   ],
   "source": [
    "import requests\n",
    "import pandas as pd\n",
    "from dotenv import load_dotenv\n",
    "import os\n",
    "\n",
    "load_dotenv()\n",
    "api_key = os.getenv(\"COVID_ACTNOW_API_KEY\")\n",
    "\n",
    "url = f\"https://api.covidactnow.org/v2/states.json?apiKey={api_key}\"\n",
    "\n",
    "response = requests.get(url)\n",
    "\n",
    "#Request Check\n",
    "if response.status_code == 200:\n",
    "    data = response.json()\n",
    "\n",
    "    #Pandas DataFrame\n",
    "    covid_data = pd.DataFrame(data)\n",
    "    \n",
    "    print(covid_data.head())\n",
    "else:\n",
    "    print(f\"Request failed with status code: {response.status_code}\")\n"
   ]
  },
  {
   "attachments": {},
   "cell_type": "markdown",
   "metadata": {},
   "source": [
    "## Resources and References\n",
    "*What resources and references have you used for this project?*\n",
    "📝 <!-- Answer Below -->\n",
    "\n",
    "[covidactnow.org](https://covidactnow.org/?s=48083556)\n",
    "\n",
    "[US Census Database](https://data.census.gov)\n",
    "\n",
    "[The Covid Tracking Project](https://covidtracking.com/data/download)\n"
   ]
  },
  {
   "cell_type": "code",
   "execution_count": null,
   "metadata": {},
   "outputs": [],
   "source": [
    "# ⚠️ Make sure you run this cell at the end of your notebook before every submission!\n",
    "!jupyter nbconvert --to python source.ipynb"
   ]
  }
 ],
 "metadata": {
  "kernelspec": {
   "display_name": "Final-Project-Template-unx06iZ2",
   "language": "python",
   "name": "python3"
  },
  "language_info": {
   "codemirror_mode": {
    "name": "ipython",
    "version": 3
   },
   "file_extension": ".py",
   "mimetype": "text/x-python",
   "name": "python",
   "nbconvert_exporter": "python",
   "pygments_lexer": "ipython3",
   "version": "3.11.6"
  },
  "orig_nbformat": 4,
  "vscode": {
   "interpreter": {
    "hash": "8f59090b806211711d8ea6da25ee5b1ccb272a75a21b9536283520350d8dfda7"
   }
  }
 },
 "nbformat": 4,
 "nbformat_minor": 2
}
