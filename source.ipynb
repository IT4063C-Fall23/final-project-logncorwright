{
 "cells": [
  {
   "attachments": {},
   "cell_type": "markdown",
   "metadata": {},
   "source": [
    "# {Analyzing the Impact of COVID-19 Vaccination Campaigns on Public Health Outcomes}📝\n",
    "\n",
    "![Banner](./assets/banner.jpeg)"
   ]
  },
  {
   "attachments": {},
   "cell_type": "markdown",
   "metadata": {},
   "source": [
    "## Topic\n",
    "*What problem are you (or your stakeholder) trying to address?*\n",
    "📝 <!-- Answer Below -->\n",
    "\n",
    "How informed public health campaigns can affect the overall outcome of a pandemic or similar outbreak when it comes to receiving vaccination and proper care for said ailment. In my instances people can be ill informed about vaccinations or other forms of treatment for illnesses and have an adverse outlook of them when in reality they are often times just ill-equiped to make a proper judgement due to not having equal access to the information at hand to make their own informed decision.\n",
    "\n",
    "Some questions that I will use to help fuel this inquiry are:\n",
    "\n",
    "How have COVID-19 vaccination rates and the availability of vaccine doses evolved over time in various regions?\n",
    "\n",
    "What is the relationship between vaccination rates and the incidence of COVID-19 cases in different demographic groups?\n",
    "\n",
    "Are there any patterns or disparities in vaccination rates based on socioeconomic factors or geographic locations?\n",
    "\n",
    "Though not every question above is not the \"Project Question\" itself, they are things to keep in mind that might add to the overall assessment of the issue at hand and provide insights as to why certain trends might be found."
   ]
  },
  {
   "attachments": {},
   "cell_type": "markdown",
   "metadata": {},
   "source": [
    "## Project Question\n",
    "*What specific question are you seeking to answer with this project?*\n",
    "*This is not the same as the questions you ask to limit the scope of the project.*\n",
    "📝 <!-- Answer Below -->\n",
    "\n",
    "\"How did various public health campaigns for the COVID-19 vaccine affect the outcome of public health in various socioeconomic areas?\""
   ]
  },
  {
   "attachments": {},
   "cell_type": "markdown",
   "metadata": {},
   "source": [
    "## What would an answer look like?\n",
    "*What is your hypothesized answer to your question?*\n",
    "📝 <!-- Answer Below -->\n",
    "\n",
    "\"I believe that there will be a reduction in spread and lower number of overall cases of COVID-19 in regions that had stronger public health campaigns that pushed for the vaccine as opposed to those who did not, notably this would be more likely to occur in areas that are of higher socioeconomic standing.\" "
   ]
  },
  {
   "attachments": {},
   "cell_type": "markdown",
   "metadata": {},
   "source": [
    "## Data Sources\n",
    "*What 3 data sources have you identified for this project?*\n",
    "*How are you going to relate these datasets?*\n",
    "📝 <!-- Answer Below -->\n",
    "\n",
    "The first is api from [covidactnow](https://covidactnow.org/?s=48083556). This has a lot of in depth and useful data available in both json & csv format.\n",
    "\n",
    "The second source is from the [US Census Database](https://data.census.gov). This information is very useful in that it will provide the different demographics that will be used in the analysis. There are many .csv files that can be used to produce relevant data that can be used.\n",
    "\n",
    "The final source is from a csv file **covid_states_history.csv**. This file has information dating up until 2021 about various cases, deaths, etc. that will be further used to analyze the problem at hand.\n",
    "\n",
    "The way I plan on relating the datasets is that I plan on merging the COVID-19 Vaccination data and Case data sets (API & CSV) in order to have common variables such as data, region, etc. to be used to analyze the relationship between COVID-19 cases and vaccination rates. Furthermore, I plan on relation the Socioeconomic Data (CSV) to both the vaccine and case data using different regions as a common key to explore any patterns based on socioeconomic factors. \n",
    "\n",
    "\n",
    "\n"
   ]
  },
  {
   "attachments": {},
   "cell_type": "markdown",
   "metadata": {},
   "source": [
    "## Approach and Analysis\n",
    "*What is your approach to answering your project question?*\n",
    "*How will you use the identified data to answer your project question?*\n",
    "📝 <!-- Start Discussing the project here; you can add as many code cells as you need -->\n",
    "\n",
    "My approach to this project is that I will first get all of the data from the various sets imported, merged, and cleaned such that I can begin analyzing it. There are a few different ways that I plan to approach these datasets to analyze the problems at hand. I can potentially perform a time-series analysis using line charts that show vaccination rates & does availability by region over a set amount of time. I can use regression analysis to identify any statistically significant relationships between vaccination rates and COVID-19 case occurrence in terms of different demographic groups and visualize that with scatter plots. Finally, I can use heatmaps to visualize the different vaccine rates based on region and socioeconomic factors.  "
   ]
  },
  {
   "cell_type": "code",
   "execution_count": 78,
   "metadata": {},
   "outputs": [],
   "source": [
    "# Start your code here\n",
    "from dotenv import load_dotenv\n",
    "\n",
    "import os\n",
    "import csv\n",
    "import json\n",
    "\n",
    "import pandas as pd\n",
    "import numpy as np\n",
    "\n",
    "from urllib.request import urlretrieve\n",
    "from zipfile import ZipFile\n",
    "from sqlalchemy import create_engine, text\n",
    "from pymongo import MongoClient\n",
    "\n",
    "import requests\n",
    "from bs4 import BeautifulSoup\n",
    "\n",
    "load_dotenv(override=True) \n",
    "pd.set_option('display.max_rows', 500)"
   ]
  },
  {
   "cell_type": "code",
   "execution_count": 77,
   "metadata": {},
   "outputs": [
    {
     "name": "stdout",
     "output_type": "stream",
     "text": [
      "         date state    death  deathConfirmed  deathIncrease  deathProbable  \\\n",
      "0  2021-03-07    AK    305.0             NaN              0            NaN   \n",
      "1  2021-03-07    AL  10148.0          7963.0             -1         2185.0   \n",
      "2  2021-03-07    AR   5319.0          4308.0             22         1011.0   \n",
      "3  2021-03-07    AS      0.0             NaN              0            NaN   \n",
      "4  2021-03-07    AZ  16328.0         14403.0              5         1925.0   \n",
      "\n",
      "   hospitalized  hospitalizedCumulative  hospitalizedCurrently  \\\n",
      "0        1293.0                  1293.0                   33.0   \n",
      "1       45976.0                 45976.0                  494.0   \n",
      "2       14926.0                 14926.0                  335.0   \n",
      "3           NaN                     NaN                    NaN   \n",
      "4       57907.0                 57907.0                  963.0   \n",
      "\n",
      "   hospitalizedIncrease  ...  totalTestResults  totalTestResultsIncrease  \\\n",
      "0                     0  ...         1731628.0                         0   \n",
      "1                     0  ...         2323788.0                      2347   \n",
      "2                    11  ...         2736442.0                      3380   \n",
      "3                     0  ...            2140.0                         0   \n",
      "4                    44  ...         7908105.0                     45110   \n",
      "\n",
      "   totalTestsAntibody  totalTestsAntigen  totalTestsPeopleAntibody  \\\n",
      "0                 NaN                NaN                       NaN   \n",
      "1                 NaN                NaN                  119757.0   \n",
      "2                 NaN                NaN                       NaN   \n",
      "3                 NaN                NaN                       NaN   \n",
      "4            580569.0                NaN                  444089.0   \n",
      "\n",
      "   totalTestsPeopleAntigen  totalTestsPeopleViral  \\\n",
      "0                      NaN                    NaN   \n",
      "1                      NaN              2323788.0   \n",
      "2                 481311.0                    NaN   \n",
      "3                      NaN                    NaN   \n",
      "4                      NaN              3842945.0   \n",
      "\n",
      "   totalTestsPeopleViralIncrease  totalTestsViral  totalTestsViralIncrease  \n",
      "0                              0        1731628.0                        0  \n",
      "1                           2347              NaN                        0  \n",
      "2                              0        2736442.0                     3380  \n",
      "3                              0           2140.0                        0  \n",
      "4                          14856        7908105.0                    45110  \n",
      "\n",
      "[5 rows x 41 columns]\n"
     ]
    }
   ],
   "source": [
    "covid_history_df = pd.read_csv('covid_states_history.csv')\n",
    "\n",
    "print(covid_history_df.head())\n",
    "\n"
   ]
  },
  {
   "cell_type": "code",
   "execution_count": 76,
   "metadata": {},
   "outputs": [
    {
     "name": "stdout",
     "output_type": "stream",
     "text": [
      "                                    Label (Grouping)  \\\n",
      "0                      AGE BY EDUCATIONAL ATTAINMENT   \n",
      "1                          Population 18 to 24 years   \n",
      "2                     Less than high school graduate   \n",
      "3          High school graduate (includes equival...   \n",
      "4                 Some college or associate's degree   \n",
      "\n",
      "  United States!!Total!!Estimate United States!!Total!!Margin of Error  \\\n",
      "0                            NaN                                   NaN   \n",
      "1                     31,254,823                               ±43,699   \n",
      "2                      3,636,420                               ±40,866   \n",
      "3                     11,051,703                               ±61,246   \n",
      "4                     12,373,694                               ±66,464   \n",
      "\n",
      "  United States!!Percent!!Estimate United States!!Percent!!Margin of Error  \\\n",
      "0                              NaN                                     NaN   \n",
      "1                              (X)                                     (X)   \n",
      "2                            11.6%                                    ±0.1   \n",
      "3                            35.4%                                    ±0.2   \n",
      "4                            39.6%                                    ±0.2   \n",
      "\n",
      "  United States!!Male!!Estimate United States!!Male!!Margin of Error  \\\n",
      "0                           NaN                                  NaN   \n",
      "1                    16,000,644                              ±24,967   \n",
      "2                     2,117,299                              ±26,850   \n",
      "3                     6,214,010                              ±41,852   \n",
      "4                     5,909,786                              ±45,622   \n",
      "\n",
      "  United States!!Percent Male!!Estimate  \\\n",
      "0                                   NaN   \n",
      "1                                   (X)   \n",
      "2                                 13.2%   \n",
      "3                                 38.8%   \n",
      "4                                 36.9%   \n",
      "\n",
      "  United States!!Percent Male!!Margin of Error  \\\n",
      "0                                          NaN   \n",
      "1                                          (X)   \n",
      "2                                         ±0.2   \n",
      "3                                         ±0.3   \n",
      "4                                         ±0.3   \n",
      "\n",
      "  United States!!Female!!Estimate United States!!Female!!Margin of Error  \\\n",
      "0                             NaN                                    NaN   \n",
      "1                      15,254,179                                ±25,427   \n",
      "2                       1,519,121                                ±26,758   \n",
      "3                       4,837,693                                ±41,340   \n",
      "4                       6,463,908                                ±45,972   \n",
      "\n",
      "  United States!!Percent Female!!Estimate  \\\n",
      "0                                     NaN   \n",
      "1                                     (X)   \n",
      "2                                   10.0%   \n",
      "3                                   31.7%   \n",
      "4                                   42.4%   \n",
      "\n",
      "  United States!!Percent Female!!Margin of Error  \n",
      "0                                            NaN  \n",
      "1                                            (X)  \n",
      "2                                           ±0.2  \n",
      "3                                           ±0.3  \n",
      "4                                           ±0.3  \n"
     ]
    }
   ],
   "source": [
    "census_education_df = pd.read_csv('census_education.csv')\n",
    "\n",
    "print(census_education_df.head())"
   ]
  },
  {
   "cell_type": "code",
   "execution_count": 75,
   "metadata": {},
   "outputs": [
    {
     "name": "stdout",
     "output_type": "stream",
     "text": [
      "                           Label (Grouping) United States!!Total!!Estimate  \\\n",
      "0  Civilian noninstitutionalized population                    328,309,810   \n",
      "1                                       AGE                            NaN   \n",
      "2                             Under 6 years                     22,146,508   \n",
      "3                             6 to 18 years                     54,595,863   \n",
      "4                            19 to 25 years                     30,279,766   \n",
      "\n",
      "  United States!!Total!!Margin of Error United States!!Insured!!Estimate  \\\n",
      "0                               ±17,044                      301,941,990   \n",
      "1                                   NaN                              NaN   \n",
      "2                               ±40,831                       21,188,997   \n",
      "3                               ±58,863                       51,621,455   \n",
      "4                               ±65,829                       26,353,069   \n",
      "\n",
      "  United States!!Insured!!Margin of Error  \\\n",
      "0                                ±177,306   \n",
      "1                                     NaN   \n",
      "2                                 ±42,572   \n",
      "3                                 ±63,974   \n",
      "4                                 ±63,639   \n",
      "\n",
      "  United States!!Percent Insured!!Estimate  \\\n",
      "0                                    92.0%   \n",
      "1                                      NaN   \n",
      "2                                    95.7%   \n",
      "3                                    94.6%   \n",
      "4                                    87.0%   \n",
      "\n",
      "  United States!!Percent Insured!!Margin of Error  \\\n",
      "0                                            ±0.1   \n",
      "1                                             NaN   \n",
      "2                                            ±0.1   \n",
      "3                                            ±0.1   \n",
      "4                                            ±0.2   \n",
      "\n",
      "  United States!!Uninsured!!Estimate  \\\n",
      "0                         26,367,820   \n",
      "1                                NaN   \n",
      "2                            957,511   \n",
      "3                          2,974,408   \n",
      "4                          3,926,697   \n",
      "\n",
      "  United States!!Uninsured!!Margin of Error  \\\n",
      "0                                  ±178,724   \n",
      "1                                       NaN   \n",
      "2                                   ±22,938   \n",
      "3                                   ±44,658   \n",
      "4                                   ±49,832   \n",
      "\n",
      "  United States!!Percent Uninsured!!Estimate  \\\n",
      "0                                       8.0%   \n",
      "1                                        NaN   \n",
      "2                                       4.3%   \n",
      "3                                       5.4%   \n",
      "4                                      13.0%   \n",
      "\n",
      "  United States!!Percent Uninsured!!Margin of Error  \n",
      "0                                              ±0.1  \n",
      "1                                               NaN  \n",
      "2                                              ±0.1  \n",
      "3                                              ±0.1  \n",
      "4                                              ±0.2  \n"
     ]
    }
   ],
   "source": [
    "census_health_df = pd.read_csv('census_health.csv')\n",
    "\n",
    "print(census_health_df.head())"
   ]
  },
  {
   "cell_type": "code",
   "execution_count": 80,
   "metadata": {},
   "outputs": [
    {
     "name": "stdout",
     "output_type": "stream",
     "text": [
      "                                  Label (Grouping) United States\n",
      "0                                           Total:   331,449,281\n",
      "1                          Population of one race:   297,600,338\n",
      "2                                      White alone   204,277,273\n",
      "3                  Black or African American alone    41,104,200\n",
      "4          American Indian and Alaska Native alone     3,727,135\n"
     ]
    }
   ],
   "source": [
    "census_income_df = pd.read_csv('census_income.csv')\n",
    "\n",
    "print(census_income_df.head())"
   ]
  },
  {
   "cell_type": "code",
   "execution_count": 79,
   "metadata": {},
   "outputs": [
    {
     "name": "stdout",
     "output_type": "stream",
     "text": [
      "         Label (Grouping) United States!!Households!!Estimate  \\\n",
      "0                   Total                         129,870,928   \n",
      "1       Less than $10,000                                5.5%   \n",
      "2      $10,000 to $14,999                                3.7%   \n",
      "3      $15,000 to $24,999                                6.8%   \n",
      "4      $25,000 to $34,999                                7.3%   \n",
      "\n",
      "  United States!!Households!!Margin of Error  \\\n",
      "0                                   ±136,261   \n",
      "1                                       ±0.1   \n",
      "2                                       ±0.1   \n",
      "3                                       ±0.1   \n",
      "4                                       ±0.1   \n",
      "\n",
      "  United States!!Families!!Estimate United States!!Families!!Margin of Error  \\\n",
      "0                        83,304,153                                 ±133,863   \n",
      "1                              3.4%                                     ±0.1   \n",
      "2                              1.8%                                     ±0.1   \n",
      "3                              4.4%                                     ±0.1   \n",
      "4                              5.6%                                     ±0.1   \n",
      "\n",
      "  United States!!Married-couple families!!Estimate  \\\n",
      "0                                       60,921,873   \n",
      "1                                             1.5%   \n",
      "2                                             0.9%   \n",
      "3                                             2.6%   \n",
      "4                                             3.8%   \n",
      "\n",
      "  United States!!Married-couple families!!Margin of Error  \\\n",
      "0                                           ±168,299        \n",
      "1                                               ±0.1        \n",
      "2                                               ±0.1        \n",
      "3                                               ±0.1        \n",
      "4                                               ±0.1        \n",
      "\n",
      "  United States!!Nonfamily households!!Estimate  \\\n",
      "0                                    46,566,775   \n",
      "1                                         10.2%   \n",
      "2                                          7.4%   \n",
      "3                                         11.7%   \n",
      "4                                         10.9%   \n",
      "\n",
      "  United States!!Nonfamily households!!Margin of Error  \n",
      "0                                           ±117,191    \n",
      "1                                               ±0.1    \n",
      "2                                               ±0.1    \n",
      "3                                               ±0.1    \n",
      "4                                               ±0.1    \n"
     ]
    }
   ],
   "source": [
    "census_population_df = pd.read_csv('census_population.csv')\n",
    "\n",
    "print(census_population_df.head())"
   ]
  },
  {
   "cell_type": "code",
   "execution_count": 81,
   "metadata": {},
   "outputs": [
    {
     "name": "stdout",
     "output_type": "stream",
     "text": [
      "  fips country state county   hsa hsaName  level   lat          locationId  \\\n",
      "0   02      US    AK   None  None    None  state  None  iso1:us#iso2:us-ak   \n",
      "1   01      US    AL   None  None    None  state  None  iso1:us#iso2:us-al   \n",
      "2   05      US    AR   None  None    None  state  None  iso1:us#iso2:us-ar   \n",
      "3   04      US    AZ   None  None    None  state  None  iso1:us#iso2:us-az   \n",
      "4   06      US    CA   None  None    None  state  None  iso1:us#iso2:us-ca   \n",
      "\n",
      "   long  population  hsaPopulation  \\\n",
      "0  None      731545            NaN   \n",
      "1  None     4903185            NaN   \n",
      "2  None     3017804            NaN   \n",
      "3  None     7278717            NaN   \n",
      "4  None    39512223            NaN   \n",
      "\n",
      "                                             metrics  \\\n",
      "0  {'testPositivityRatio': 0.097, 'testPositivity...   \n",
      "1  {'testPositivityRatio': None, 'testPositivityR...   \n",
      "2  {'testPositivityRatio': 0.106, 'testPositivity...   \n",
      "3  {'testPositivityRatio': 0.302, 'testPositivity...   \n",
      "4  {'testPositivityRatio': 0.066, 'testPositivity...   \n",
      "\n",
      "                                          riskLevels  cdcTransmissionLevel  \\\n",
      "0  {'overall': 4, 'testPositivityRatio': 1, 'case...                     2   \n",
      "1  {'overall': 4, 'testPositivityRatio': 4, 'case...                     4   \n",
      "2  {'overall': 4, 'testPositivityRatio': 2, 'case...                     3   \n",
      "3  {'overall': 4, 'testPositivityRatio': 3, 'case...                     3   \n",
      "4  {'overall': 4, 'testPositivityRatio': 1, 'case...                     1   \n",
      "\n",
      "                                     communityLevels  \\\n",
      "0  {'cdcCommunityLevel': None, 'canCommunityLevel...   \n",
      "1  {'cdcCommunityLevel': None, 'canCommunityLevel...   \n",
      "2  {'cdcCommunityLevel': None, 'canCommunityLevel...   \n",
      "3  {'cdcCommunityLevel': None, 'canCommunityLevel...   \n",
      "4  {'cdcCommunityLevel': None, 'canCommunityLevel...   \n",
      "\n",
      "                                             actuals  \\\n",
      "0  {'cases': 297588, 'deaths': 1468, 'positiveTes...   \n",
      "1  {'cases': 1659936, 'deaths': 21138, 'positiveT...   \n",
      "2  {'cases': 995043, 'deaths': 13115, 'positiveTe...   \n",
      "3  {'cases': 2474154, 'deaths': 33451, 'positiveT...   \n",
      "4  {'cases': 12251820, 'deaths': 101886, 'positiv...   \n",
      "\n",
      "                                         annotations lastUpdatedDate  \\\n",
      "0  {'cases': {'sources': [{'type': 'other', 'url'...      2023-10-24   \n",
      "1  {'cases': {'sources': [{'type': 'other', 'url'...      2023-10-24   \n",
      "2  {'cases': {'sources': [{'type': 'other', 'url'...      2023-10-24   \n",
      "3  {'cases': {'sources': [{'type': 'other', 'url'...      2023-10-24   \n",
      "4  {'cases': {'sources': [{'type': 'other', 'url'...      2023-10-24   \n",
      "\n",
      "                                        url  \n",
      "0      https://covidactnow.org/us/alaska-ak  \n",
      "1     https://covidactnow.org/us/alabama-al  \n",
      "2    https://covidactnow.org/us/arkansas-ar  \n",
      "3     https://covidactnow.org/us/arizona-az  \n",
      "4  https://covidactnow.org/us/california-ca  \n"
     ]
    }
   ],
   "source": [
    "api_key = os.getenv(\"COVID_ACTNOW_API_KEY\")\n",
    "\n",
    "url = f\"https://api.covidactnow.org/v2/states.json?apiKey={api_key}\"\n",
    "\n",
    "response = requests.get(url)\n",
    "\n",
    "#Request Check\n",
    "if response.status_code == 200:\n",
    "    data = response.json()\n",
    "\n",
    "    #Pandas DataFrame\n",
    "    covid_data = pd.DataFrame(data)\n",
    "    \n",
    "    print(covid_data.head())\n",
    "else:\n",
    "    print(f\"Request failed with status code: {response.status_code}\")\n"
   ]
  },
  {
   "attachments": {},
   "cell_type": "markdown",
   "metadata": {},
   "source": [
    "## Resources and References\n",
    "*What resources and references have you used for this project?*\n",
    "📝 <!-- Answer Below -->\n",
    "\n",
    "[covidactnow.org](https://covidactnow.org/?s=48083556)\n",
    "\n",
    "[US Census Database](https://data.census.gov)\n",
    "\n",
    "[The Covid Tracking Project](https://covidtracking.com/data/download)\n"
   ]
  },
  {
   "cell_type": "code",
   "execution_count": 82,
   "metadata": {},
   "outputs": [
    {
     "name": "stderr",
     "output_type": "stream",
     "text": [
      "[NbConvertApp] Converting notebook source.ipynb to python\n",
      "[NbConvertApp] Writing 6220 bytes to source.py\n"
     ]
    }
   ],
   "source": [
    "# ⚠️ Make sure you run this cell at the end of your notebook before every submission!\n",
    "!jupyter nbconvert --to python source.ipynb"
   ]
  }
 ],
 "metadata": {
  "kernelspec": {
   "display_name": "Final-Project-Template-unx06iZ2",
   "language": "python",
   "name": "python3"
  },
  "language_info": {
   "codemirror_mode": {
    "name": "ipython",
    "version": 3
   },
   "file_extension": ".py",
   "mimetype": "text/x-python",
   "name": "python",
   "nbconvert_exporter": "python",
   "pygments_lexer": "ipython3",
   "version": "3.11.6"
  },
  "orig_nbformat": 4,
  "vscode": {
   "interpreter": {
    "hash": "8f59090b806211711d8ea6da25ee5b1ccb272a75a21b9536283520350d8dfda7"
   }
  }
 },
 "nbformat": 4,
 "nbformat_minor": 2
}
