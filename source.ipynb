{
 "cells": [
  {
   "attachments": {},
   "cell_type": "markdown",
   "metadata": {},
   "source": [
    "# {Analyzing the Impact of COVID-19 Vaccination Campaigns on Public Health Outcomes}📝\n",
    "\n",
    "![Banner](./assets/banner.jpeg)"
   ]
  },
  {
   "attachments": {},
   "cell_type": "markdown",
   "metadata": {},
   "source": [
    "## Topic\n",
    "*What problem are you (or your stakeholder) trying to address?*\n",
    "📝 <!-- Answer Below -->\n",
    "\n",
    "How informed public health campaigns can affect the overall outcome of a pandemic or similar outbreak when it comes to receiving vaccination and proper care for said ailment. In my instances people can be ill informed about vaccinations or other forms of treatment for illnesses and have an adverse outlook of them when in reality they are often times just ill-equiped to make a proper judgement due to not having equal access to the information at hand to make their own informed decision.\n",
    "\n",
    "Some questions that I will use to help fuel this inquiry are:\n",
    "\n",
    "How have COVID-19 vaccination rates and the availability of vaccine doses evolved over time in various regions?\n",
    "\n",
    "What is the relationship between vaccination rates and the incidence of COVID-19 cases in different demographic groups?\n",
    "\n",
    "Are there any patterns or disparities in vaccination rates based on socioeconomic factors or geographic locations?\n",
    "\n",
    "Though not every question above is not the \"Project Question\" itself, they are things to keep in mind that might add to the overall assessment of the issue at hand and provide insights as to why certain trends might be found."
   ]
  },
  {
   "attachments": {},
   "cell_type": "markdown",
   "metadata": {},
   "source": [
    "## Project Question\n",
    "*What specific question are you seeking to answer with this project?*\n",
    "*This is not the same as the questions you ask to limit the scope of the project.*\n",
    "📝 <!-- Answer Below -->\n",
    "\n",
    "\"How did various public health campaigns for the COVID-19 vaccine affect the outcome of public health in various socioeconomic areas?\""
   ]
  },
  {
   "attachments": {},
   "cell_type": "markdown",
   "metadata": {},
   "source": [
    "## What would an answer look like?\n",
    "*What is your hypothesized answer to your question?*\n",
    "📝 <!-- Answer Below -->\n",
    "\n",
    "\"I believe that there will be a reduction in spread and lower number of overall cases of COVID-19 in regions that had stronger public health campaigns that pushed for the vaccine as opposed to those who did not, notably this would be more likely to occur in areas that are of higher socioeconomic standing.\" "
   ]
  },
  {
   "attachments": {},
   "cell_type": "markdown",
   "metadata": {},
   "source": [
    "## Data Sources\n",
    "*What 3 data sources have you identified for this project?*\n",
    "*How are you going to relate these datasets?*\n",
    "📝 <!-- Answer Below -->\n",
    "\n",
    "The first is api from [covidactnow](https://covidactnow.org/?s=48083556). This has a lot of in depth and useful data available in both json & csv format.\n",
    "\n",
    "The second source is from the [US Census Database](https://data.census.gov). This information is very useful in that it will provide the different demographics that will be used in the analysis.\n",
    "\n",
    "The final source is from a csv file **covid_states_history.csv**. This file has information dating up until 2021 about various cases, deaths, etc. that will be further used to analyze the problem at hand.\n",
    "\n",
    "The way I plan on relating the datasets is that I plan on merging the COVID-19 Vaccination data and Case data sets (API & CSV) in order to have common variables such as data, region, etc. to be used to analyze the relationship between COVID-19 cases and vaccination rates. Furthermore, I plan on relation the Socioeconomic Data (Database) to both the vaccine and case data using different regions as a common key to explore any patterns based on socioeconomic factors. \n",
    "\n",
    "\n",
    "\n"
   ]
  },
  {
   "attachments": {},
   "cell_type": "markdown",
   "metadata": {},
   "source": [
    "## Approach and Analysis\n",
    "*What is your approach to answering your project question?*\n",
    "*How will you use the identified data to answer your project question?*\n",
    "📝 <!-- Start Discussing the project here; you can add as many code cells as you need -->\n",
    "\n",
    "My approach to this project is that I will first get all of the data from the various sets imported, merged, and cleaned such that I can begin analyzing it. There are a few different ways that I plan to approach these datasets to analyze the problems at hand. I can potentially perform a time-series analysis using line charts that show vaccination rates & does availability by region over a set amount of time. I can use regression analysis to identify any statistically significant relationships between vaccination rates and COVID-19 case occurrence in terms of different demographic groups and visualize that with scatter plots. Finally, I can use heatmaps to visualize the different vaccine rates based on region and socioeconomic factors.  "
   ]
  },
  {
   "cell_type": "code",
   "execution_count": null,
   "metadata": {},
   "outputs": [],
   "source": [
    "# Start your code here\n",
    "from dotenv import load_dotenv\n",
    "\n",
    "import os\n",
    "import csv\n",
    "\n",
    "\n",
    "import pandas as pd\n",
    "import numpy as np\n",
    "\n",
    "from urllib.request import urlretrieve\n",
    "from zipfile import ZipFile\n",
    "from sqlalchemy import create_engine, text\n",
    "from pymongo import MongoClient\n",
    "\n",
    "import requests\n",
    "from bs4 import BeautifulSoup\n",
    "\n",
    "load_dotenv(override=True) \n"
   ]
  },
  {
   "cell_type": "code",
   "execution_count": null,
   "metadata": {},
   "outputs": [],
   "source": [
    "pd.set_option('display.max_rows', 500)\n",
    "\n",
    "\n",
    "covid_history_df = pd.read_csv('covid_states_history.csv')\n",
    "\n",
    "\n",
    "print(covid_history_df.head())"
   ]
  },
  {
   "cell_type": "code",
   "execution_count": null,
   "metadata": {},
   "outputs": [],
   "source": []
  },
  {
   "cell_type": "code",
   "execution_count": 17,
   "metadata": {},
   "outputs": [
    {
     "name": "stdout",
     "output_type": "stream",
     "text": [
      "<!doctype html><html lang=\"en\"><head><meta charset=\"utf-8\"/><meta name=\"viewport\" content=\"minimum-scale=1,initial-scale=1,width=device-width\"/><meta name=\"theme-color\" content=\"#000000\"/><link rel=\"apple-touch-icon\" href=\"/logo192.png\"/><link rel=\"manifest\" href=\"/manifest.json\"/><title data-react-helmet=\"true\">Covid Act Now</title><link data-react-helmet=\"true\" rel=\"canonical\" href=\"https://covidactnow.org/\"/><meta data-react-helmet=\"true\" name=\"description\" content=\"U.S. COVID Risk & Vaccine Tracker. All 50 states. 3,000+ counties.\"/><meta data-react-helmet=\"true\" name=\"image\" content=\"\"/><meta property=\"og:type\" content=\"website\"/><meta property=\"og:site_name\" content=\"Covid Act Now\"/><meta property=\"og:image:type\" content=\"image/png\"/><meta property=\"fb:app_id\" content=\"743805156345210\"/><meta property=\"og:url\" content=\"https://covidactnow.org\"/><meta property=\"og:image:url\" content=\"https://covidactnow-prod.web.app/share/4808-3556/home.png\"/><meta property=\"og:image:width\" content=\"1200\"/><meta property=\"og:image:height\" content=\"630\"/><meta property=\"og:title\" content=\"U.S. COVID Risk & Vaccine Tracker\"/><meta property=\"og:description\" content=\"Covid Act Now has real-time tracking of your community's COVID risk level. Explore how your community is doing.\"/><meta name=\"twitter:card\" content=\"summary_large_image\"/><meta name=\"twitter:image\" content=\"https://covidactnow-prod.web.app/share/4808-3556/home.png\"/><meta name=\"twitter:title\" content=\"U.S. COVID Risk & Vaccine Tracker\"/><meta name=\"twitter:description\" content=\"Covid Act Now has real-time tracking of your community's COVID risk level. Explore how your community is doing.\"/><link rel=\"preconnect\" href=\"https://fonts.gstatic.com\" crossorigin/><link rel=\"stylesheet\" href=\"https://fonts.googleapis.com/css2?family=Source+Code+Pro:wght@400;700&family=Roboto:wght@400;500;700&display=swap\"/><script async>!function(e,t,n,i,a,c){e.twq||((i=e.twq=function(){i.exe?i.exe.apply(i,arguments):i.queue.push(arguments)}).version=\"1.1\",i.queue=[],(a=t.createElement(n)).async=!0,a.src=\"//static.ads-twitter.com/uwt.js\",(c=t.getElementsByTagName(n)[0]).parentNode.insertBefore(a,c))}(window,document,\"script\"),twq(\"init\",\"o3f92\"),twq(\"track\",\"PageView\")</script><script>!function(e,t,n,c,o,a,f){e.fbq||(o=e.fbq=function(){o.callMethod?o.callMethod.apply(o,arguments):o.queue.push(arguments)},e._fbq||(e._fbq=o),o.push=o,o.loaded=!0,o.version=\"2.0\",o.queue=[],(a=t.createElement(n)).async=!0,a.src=\"https://connect.facebook.net/en_US/fbevents.js\",(f=t.getElementsByTagName(n)[0]).parentNode.insertBefore(a,f))}(window,document,\"script\"),fbq(\"init\",\"538941662941644\"),fbq(\"track\",\"PageView\")</script><script async src=\"https://www.googletagmanager.com/gtag/js?id=AW-527465415\"></script><script>function gtag(){dataLayer.push(arguments)}window.dataLayer=window.dataLayer||[],gtag(\"js\",new Date),gtag(\"config\",\"AW-527465415\")</script><script async src=\"https://www.googletagmanager.com/gtag/js?id=G-9883DK9DYY\"></script><script>function gtag(){dataLayer.push(arguments)}window.dataLayer=window.dataLayer||[],gtag(\"js\",new Date),gtag(\"config\",\"G-9883DK9DYY\")</script><script>gtag(\"event\",\"conversion\",{send_to:\"AW-527465415/lRyqCM2a9-kBEMf3wfsB\"})</script><noscript><img height=\"1\" width=\"1\" src=\"https://www.facebook.com/tr?id=692591964861759&ev=PageView\n",
      "      &noscript=1\"/></noscript><link href=\"/static/css/main.c0b03cc5.chunk.css\" rel=\"stylesheet\"></head><body><noscript>You need to enable JavaScript to run this app.</noscript><div id=\"root\"></div><script>!function(e){function t(t){for(var n,c,f=t[0],u=t[1],i=t[2],l=0,s=[];l<f.length;l++)c=f[l],Object.prototype.hasOwnProperty.call(o,c)&&o[c]&&s.push(o[c][0]),o[c]=0;for(n in u)Object.prototype.hasOwnProperty.call(u,n)&&(e[n]=u[n]);for(d&&d(t);s.length;)s.shift()();return a.push.apply(a,i||[]),r()}function r(){for(var e,t=0;t<a.length;t++){for(var r=a[t],n=!0,f=1;f<r.length;f++){var u=r[f];0!==o[u]&&(n=!1)}n&&(a.splice(t--,1),e=c(c.s=r[0]))}return e}var n={},o={7:0},a=[];function c(t){if(n[t])return n[t].exports;var r=n[t]={i:t,l:!1,exports:{}};return e[t].call(r.exports,r,r.exports,c),r.l=!0,r.exports}c.e=function(e){var t=[],r=o[e];if(0!==r)if(r)t.push(r[2]);else{var n=new Promise((function(t,n){r=o[e]=[t,n]}));t.push(r[2]=n);var a,f=document.createElement(\"script\");f.charset=\"utf-8\",f.timeout=120,c.nc&&f.setAttribute(\"nonce\",c.nc),f.src=function(e){return c.p+\"static/js/\"+({}[e]||e)+\".\"+{0:\"7d24305f\",1:\"a016ff1d\",2:\"15a24906\",3:\"b0607339\",4:\"aa0094ad\",5:\"d3b4aa0c\",9:\"2e582460\",10:\"74b01e5d\",11:\"27d85511\",12:\"c4b332ad\",13:\"3d10dbe2\",14:\"bbf65451\",15:\"3a511f90\",16:\"1a665d9f\",17:\"f1675f1f\",18:\"2fd1bdbf\",19:\"681a7f0a\",20:\"d89b6d15\",21:\"71d759a9\",22:\"56c022f1\",23:\"00f2824b\",24:\"8e3680fc\",25:\"cc92449a\",26:\"76d4c91b\",27:\"4a4a07a0\",28:\"0d1c15fd\",29:\"2345c706\",30:\"25c3a1a5\",31:\"6113f49e\",32:\"72a8a859\",33:\"05729166\",34:\"5605e354\",35:\"2a250c04\",36:\"b93d9fe3\",37:\"bbb96df8\",38:\"69fbd1c9\",39:\"c7c90b29\"}[e]+\".chunk.js\"}(e);var u=new Error;a=function(t){f.onerror=f.onload=null,clearTimeout(i);var r=o[e];if(0!==r){if(r){var n=t&&(\"load\"===t.type?\"missing\":t.type),a=t&&t.target&&t.target.src;u.message=\"Loading chunk \"+e+\" failed.\\n(\"+n+\": \"+a+\")\",u.name=\"ChunkLoadError\",u.type=n,u.request=a,r[1](u)}o[e]=void 0}};var i=setTimeout((function(){a({type:\"timeout\",target:f})}),12e4);f.onerror=f.onload=a,document.head.appendChild(f)}return Promise.all(t)},c.m=e,c.c=n,c.d=function(e,t,r){c.o(e,t)||Object.defineProperty(e,t,{enumerable:!0,get:r})},c.r=function(e){\"undefined\"!=typeof Symbol&&Symbol.toStringTag&&Object.defineProperty(e,Symbol.toStringTag,{value:\"Module\"}),Object.defineProperty(e,\"__esModule\",{value:!0})},c.t=function(e,t){if(1&t&&(e=c(e)),8&t)return e;if(4&t&&\"object\"==typeof e&&e&&e.__esModule)return e;var r=Object.create(null);if(c.r(r),Object.defineProperty(r,\"default\",{enumerable:!0,value:e}),2&t&&\"string\"!=typeof e)for(var n in e)c.d(r,n,function(t){return e[t]}.bind(null,n));return r},c.n=function(e){var t=e&&e.__esModule?function(){return e.default}:function(){return e};return c.d(t,\"a\",t),t},c.o=function(e,t){return Object.prototype.hasOwnProperty.call(e,t)},c.p=\"/\",c.oe=function(e){throw console.error(e),e};var f=this[\"webpackJsonpcovid-act-now-website\"]=this[\"webpackJsonpcovid-act-now-website\"]||[],u=f.push.bind(f);f.push=t,f=f.slice();for(var i=0;i<f.length;i++)t(f[i]);var d=u;r()}([])</script><script src=\"/static/js/8.5e268da8.chunk.js\"></script><script src=\"/static/js/main.8955c0a2.chunk.js\"></script></body></html>\n"
     ]
    }
   ],
   "source": [
    "data = requests.get('https://covidactnow.org/?s=48083556')\n",
    "\n",
    "print(data.text)"
   ]
  },
  {
   "attachments": {},
   "cell_type": "markdown",
   "metadata": {},
   "source": [
    "## Resources and References\n",
    "*What resources and references have you used for this project?*\n",
    "📝 <!-- Answer Below -->\n",
    "\n",
    "[covidactnow.org](https://covidactnow.org/?s=48083556)\n",
    "\n",
    "[US Census Database](https://data.census.gov)\n",
    "\n",
    "[The Covid Tracking Project](https://covidtracking.com/data/download)\n"
   ]
  },
  {
   "cell_type": "code",
   "execution_count": null,
   "metadata": {},
   "outputs": [],
   "source": [
    "# ⚠️ Make sure you run this cell at the end of your notebook before every submission!\n",
    "!jupyter nbconvert --to python source.ipynb"
   ]
  }
 ],
 "metadata": {
  "kernelspec": {
   "display_name": "Final-Project-Template-unx06iZ2",
   "language": "python",
   "name": "python3"
  },
  "language_info": {
   "codemirror_mode": {
    "name": "ipython",
    "version": 3
   },
   "file_extension": ".py",
   "mimetype": "text/x-python",
   "name": "python",
   "nbconvert_exporter": "python",
   "pygments_lexer": "ipython3",
   "version": "3.11.6"
  },
  "orig_nbformat": 4,
  "vscode": {
   "interpreter": {
    "hash": "8f59090b806211711d8ea6da25ee5b1ccb272a75a21b9536283520350d8dfda7"
   }
  }
 },
 "nbformat": 4,
 "nbformat_minor": 2
}
